{
 "cells": [
  {
   "cell_type": "code",
   "execution_count": 173,
   "metadata": {},
   "outputs": [],
   "source": [
    "import numpy as np\n",
    "import tensorflow as tf\n",
    "from tensorflow import keras\n",
    "import pandas as pd"
   ]
  },
  {
   "cell_type": "code",
   "execution_count": 174,
   "metadata": {},
   "outputs": [],
   "source": [
    "model = keras.models.load_model(\"fire_class_model\")"
   ]
  },
  {
   "cell_type": "code",
   "execution_count": 175,
   "metadata": {},
   "outputs": [],
   "source": [
    "from ipywidgets import Text, Button, Layout, Output, Label"
   ]
  },
  {
   "cell_type": "code",
   "execution_count": 176,
   "metadata": {},
   "outputs": [],
   "source": [
    "latitude_input = Text(\n",
    "    placeholder='Latitude of fire',\n",
    "    description='Latitude: ',\n",
    "    disabled=False,\n",
    "    layout=Layout(width=\"500px\"),\n",
    "    style={'description_width': '200px'}\n",
    "    \n",
    ")\n",
    "longitude_input = Text(\n",
    "    placeholder='Longitude of fire',\n",
    "    description='Longitude: ',\n",
    "    disabled=False,\n",
    "    layout=Layout(width=\"500px\"),\n",
    "    style={'description_width': '200px'}\n",
    ")\n",
    "Temp_pre_30_input = Text(\n",
    "    placeholder='Average temp of previous 30 days',\n",
    "    description='Temperature Pre 30: ',\n",
    "    disabled=False,\n",
    "    layout=Layout(width=\"500px\"),\n",
    "    style={'description_width': '200px'}\n",
    ")\n",
    "Temp_pre_15_input = Text(\n",
    "    placeholder='Average temp of previous 15 days',\n",
    "    description='Temperature Pre 15: ',\n",
    "    disabled=False,\n",
    "    layout=Layout(width=\"500px\"),\n",
    "    style={'description_width': '200px'}\n",
    ")\n",
    "Temp_pre_7_input = Text(\n",
    "    placeholder='Average temp of previous 7 days',\n",
    "    description='Temperature Pre 15: ',\n",
    "    disabled=False,\n",
    "    layout=Layout(width=\"500px\"),\n",
    "    style={'description_width': '200px'}\n",
    ")\n",
    "\n",
    "Wind_pre_30_input = Text(\n",
    "    placeholder='Average wind speed of previous 30 days',\n",
    "    description='Wind Pre 30: ',\n",
    "    disabled=False,\n",
    "    layout=Layout(width=\"500px\"),\n",
    "    style={'description_width': '200px'}\n",
    ")\n",
    "Wind_pre_15_input = Text(\n",
    "    placeholder='Average wind speed of previous 15 days',\n",
    "    description='Wind Pre 15: ',\n",
    "    disabled=False,\n",
    "    layout=Layout(width=\"500px\"),\n",
    "    style={'description_width': '200px'}\n",
    ")\n",
    "Wind_pre_7_input = Text(\n",
    "    placeholder='Average wind speed of previous 7 days',\n",
    "    description='Wind Pre 7: ',\n",
    "    disabled=False,\n",
    "    layout=Layout(width=\"500px\"),\n",
    "    style={'description_width': '200px'}\n",
    ")\n",
    "\n",
    "Hum_pre_30_input = Text(\n",
    "    placeholder='Average Humidity of previous 30 days',\n",
    "    description='Humidity Pre 30: ',\n",
    "    disabled=False,\n",
    "    layout=Layout(width=\"500px\"),\n",
    "    style={'description_width': '200px'}\n",
    ")\n",
    "Hum_pre_15_input = Text(\n",
    "    placeholder='Average Humidity of previous 15 days',\n",
    "    description='Humidity Pre 15: ',\n",
    "    disabled=False,\n",
    "    layout=Layout(width=\"500px\"),\n",
    "    style={'description_width': '200px'}\n",
    ")\n",
    "Hum_pre_7_input = Text(\n",
    "    placeholder='Average Humidity of previous 7 days',\n",
    "    description='Humidity Pre 7: ',\n",
    "    disabled=False,\n",
    "    layout=Layout(width=\"500px\"),\n",
    "    style={'description_width': '200px'}\n",
    ")\n",
    "\n",
    "Prec_pre_30_input = Text(\n",
    "    placeholder='Average Precipitation of previous 30 days',\n",
    "    description='Precipitation Pre 30: ',\n",
    "    disabled=False,\n",
    "    layout=Layout(width=\"500px\"),\n",
    "    style={'description_width': '200px'}\n",
    ")\n",
    "Prec_pre_15_input = Text(\n",
    "    placeholder='Average Precipitation of previous 15 days',\n",
    "    description='Precipitation Pre 15: ',\n",
    "    disabled=False,\n",
    "    layout=Layout(width=\"500px\"),\n",
    "    style={'description_width': '200px'}\n",
    ")\n",
    "Prec_pre_7_input = Text(\n",
    "    placeholder='Average Precipitation of previous 7 days',\n",
    "    description='Precipitation Pre 7: ',\n",
    "    disabled=False,\n",
    "    layout=Layout(width=\"500px\"),\n",
    "    style={'description_width': '200px'}\n",
    ")\n",
    "\n",
    "Remoteness_input = Text(\n",
    "    placeholder='Remoteness of the fire',\n",
    "    description='Remoteness: ',\n",
    "    disabled=False,\n",
    "    layout=Layout(width=\"500px\"),\n",
    "    style={'description_width': '200px'}\n",
    ")\n",
    "Arson_input = Text(\n",
    "    placeholder='0 for false, 1 for true',\n",
    "    description='Arson: ',\n",
    "    disabled=False,\n",
    "    layout=Layout(width=\"500px\"),\n",
    "    style={'description_width': '200px'}\n",
    ")\n",
    "Campfire_input = Text(\n",
    "    placeholder='0 for false, 1 for true',\n",
    "    description='Campfire: ',\n",
    "    disabled=False,\n",
    "    layout=Layout(width=\"500px\"),\n",
    "    style={'description_width': '200px'}\n",
    ")\n",
    "Children_input = Text(\n",
    "    placeholder='0 for false, 1 for true',\n",
    "    description='Children: ',\n",
    "    disabled=False,\n",
    "    layout=Layout(width=\"500px\"),\n",
    "    style={'description_width': '200px'}\n",
    ")\n",
    "Debris_Burning_input = Text(\n",
    "    placeholder='0 for false, 1 for true',\n",
    "    description='Debris Burning: ',\n",
    "    disabled=False,\n",
    "    layout=Layout(width=\"500px\"),\n",
    "    style={'description_width': '200px'}\n",
    ")\n",
    "Equipment_Use_input = Text(\n",
    "    placeholder='0 for false, 1 for true',\n",
    "    description='Equipment Use: ',\n",
    "    disabled=False,\n",
    "    layout=Layout(width=\"500px\"),\n",
    "    style={'description_width': '200px'}\n",
    ")\n",
    "Fireworks_input = Text(\n",
    "    placeholder='0 for false, 1 for true',\n",
    "    description='Fireworks: ',\n",
    "    disabled=False,\n",
    "    layout=Layout(width=\"500px\"),\n",
    "    style={'description_width': '200px'}\n",
    ")\n",
    "Lightning_input = Text(\n",
    "    placeholder='0 for false, 1 for true',\n",
    "    description='Lightning: ',\n",
    "    disabled=False,\n",
    "    layout=Layout(width=\"500px\"),\n",
    "    style={'description_width': '200px'}\n",
    ")\n",
    "Miscellaneous_input = Text(\n",
    "    placeholder='0 for false, 1 for true',\n",
    "    description='Miscellaneous: ',\n",
    "    disabled=False,\n",
    "    layout=Layout(width=\"500px\"),\n",
    "    style={'description_width': '200px'}\n",
    ")\n",
    "Missing_Undefined_input = Text(\n",
    "    placeholder='0 for false, 1 for true',\n",
    "    description='Missing/Undefined: ',\n",
    "    disabled=False,\n",
    "    layout=Layout(width=\"500px\"),\n",
    "    style={'description_width': '200px'}\n",
    ")\n",
    "Powerline_input = Text(\n",
    "    placeholder='0 for false, 1 for true',\n",
    "    description='Powerline: ',\n",
    "    disabled=False,\n",
    "    layout=Layout(width=\"500px\"),\n",
    "    style={'description_width': '200px'}\n",
    ")\n",
    "Railroad_input = Text(\n",
    "    placeholder='0 for false, 1 for true',\n",
    "    description='Railroad: ',\n",
    "    disabled=False,\n",
    "    layout=Layout(width=\"500px\"),\n",
    "    style={'description_width': '200px'}\n",
    ")\n",
    "Smoking_input = Text(\n",
    "    placeholder='0 for false, 1 for true',\n",
    "    description='Smoking: ',\n",
    "    disabled=False,\n",
    "    layout=Layout(width=\"500px\"),\n",
    "    style={'description_width': '200px'}\n",
    ")\n",
    "Structure_input = Text(\n",
    "    placeholder='0 for false, 1 for true',\n",
    "    description='Structure: ',\n",
    "    disabled=False,\n",
    "    layout=Layout(width=\"500px\"),\n",
    "    style={'description_width': '200px'}\n",
    ")\n",
    "\n",
    "Title = Label(value= \"Forest Fire Class Prediction Model\")\n",
    "Info = Label(value= \"Unentered values will be replaced with a default value\")"
   ]
  },
  {
   "cell_type": "code",
   "execution_count": 177,
   "metadata": {},
   "outputs": [
    {
     "data": {
      "application/vnd.jupyter.widget-view+json": {
       "model_id": "5903fed08c2947edb3261a347a60bee6",
       "version_major": 2,
       "version_minor": 0
      },
      "text/plain": [
       "Label(value='Forest Fire Class Prediction Model')"
      ]
     },
     "metadata": {},
     "output_type": "display_data"
    },
    {
     "data": {
      "application/vnd.jupyter.widget-view+json": {
       "model_id": "8ba8d7c0f8a847e99a46b92cb1e11c03",
       "version_major": 2,
       "version_minor": 0
      },
      "text/plain": [
       "Label(value='Unentered values will be replaced with a default value')"
      ]
     },
     "metadata": {},
     "output_type": "display_data"
    },
    {
     "data": {
      "application/vnd.jupyter.widget-view+json": {
       "model_id": "06fbfe370f084d3dac0212314a10b4ba",
       "version_major": 2,
       "version_minor": 0
      },
      "text/plain": [
       "Text(value='', description='Latitude: ', layout=Layout(width='500px'), placeholder='Latitude of fire', style=D…"
      ]
     },
     "metadata": {},
     "output_type": "display_data"
    },
    {
     "data": {
      "application/vnd.jupyter.widget-view+json": {
       "model_id": "49a8382ada3f4f37acd1a6ee277dec9b",
       "version_major": 2,
       "version_minor": 0
      },
      "text/plain": [
       "Text(value='', description='Longitude: ', layout=Layout(width='500px'), placeholder='Longitude of fire', style…"
      ]
     },
     "metadata": {},
     "output_type": "display_data"
    },
    {
     "data": {
      "application/vnd.jupyter.widget-view+json": {
       "model_id": "d3d190e3f2df42428ae187a65bd451b9",
       "version_major": 2,
       "version_minor": 0
      },
      "text/plain": [
       "Text(value='', description='Temperature Pre 30: ', layout=Layout(width='500px'), placeholder='Average temp of …"
      ]
     },
     "metadata": {},
     "output_type": "display_data"
    },
    {
     "data": {
      "application/vnd.jupyter.widget-view+json": {
       "model_id": "66b7ece9d4d444bfa9075d74927784b9",
       "version_major": 2,
       "version_minor": 0
      },
      "text/plain": [
       "Text(value='', description='Temperature Pre 15: ', layout=Layout(width='500px'), placeholder='Average temp of …"
      ]
     },
     "metadata": {},
     "output_type": "display_data"
    },
    {
     "data": {
      "application/vnd.jupyter.widget-view+json": {
       "model_id": "da1f97f075f74dcfb267b9fd8af68791",
       "version_major": 2,
       "version_minor": 0
      },
      "text/plain": [
       "Text(value='', description='Temperature Pre 15: ', layout=Layout(width='500px'), placeholder='Average temp of …"
      ]
     },
     "metadata": {},
     "output_type": "display_data"
    },
    {
     "data": {
      "application/vnd.jupyter.widget-view+json": {
       "model_id": "69cdc96d5fe04547b9a8e0af82fafa12",
       "version_major": 2,
       "version_minor": 0
      },
      "text/plain": [
       "Text(value='', description='Wind Pre 30: ', layout=Layout(width='500px'), placeholder='Average wind speed of p…"
      ]
     },
     "metadata": {},
     "output_type": "display_data"
    },
    {
     "data": {
      "application/vnd.jupyter.widget-view+json": {
       "model_id": "98f1df2eb7fc48a2ad439dc5aecf0f66",
       "version_major": 2,
       "version_minor": 0
      },
      "text/plain": [
       "Text(value='', description='Wind Pre 15: ', layout=Layout(width='500px'), placeholder='Average wind speed of p…"
      ]
     },
     "metadata": {},
     "output_type": "display_data"
    },
    {
     "data": {
      "application/vnd.jupyter.widget-view+json": {
       "model_id": "ff9971cbc7eb4f4cace90807de53ebaa",
       "version_major": 2,
       "version_minor": 0
      },
      "text/plain": [
       "Text(value='', description='Wind Pre 7: ', layout=Layout(width='500px'), placeholder='Average wind speed of pr…"
      ]
     },
     "metadata": {},
     "output_type": "display_data"
    },
    {
     "data": {
      "application/vnd.jupyter.widget-view+json": {
       "model_id": "b1319b2d5b33440799d4373ce7dc50ab",
       "version_major": 2,
       "version_minor": 0
      },
      "text/plain": [
       "Text(value='', description='Humidity Pre 30: ', layout=Layout(width='500px'), placeholder='Average Humidity of…"
      ]
     },
     "metadata": {},
     "output_type": "display_data"
    },
    {
     "data": {
      "application/vnd.jupyter.widget-view+json": {
       "model_id": "5fc9adf39f8b46b3bce7d0437a5f8a61",
       "version_major": 2,
       "version_minor": 0
      },
      "text/plain": [
       "Text(value='', description='Humidity Pre 15: ', layout=Layout(width='500px'), placeholder='Average Humidity of…"
      ]
     },
     "metadata": {},
     "output_type": "display_data"
    },
    {
     "data": {
      "application/vnd.jupyter.widget-view+json": {
       "model_id": "979a8909ad864edf83acb30fd0e5d97f",
       "version_major": 2,
       "version_minor": 0
      },
      "text/plain": [
       "Text(value='', description='Humidity Pre 7: ', layout=Layout(width='500px'), placeholder='Average Humidity of …"
      ]
     },
     "metadata": {},
     "output_type": "display_data"
    },
    {
     "data": {
      "application/vnd.jupyter.widget-view+json": {
       "model_id": "7835bb8ad7d64eb591eee2943ceb20e1",
       "version_major": 2,
       "version_minor": 0
      },
      "text/plain": [
       "Text(value='', description='Precipitation Pre 30: ', layout=Layout(width='500px'), placeholder='Average Precip…"
      ]
     },
     "metadata": {},
     "output_type": "display_data"
    },
    {
     "data": {
      "application/vnd.jupyter.widget-view+json": {
       "model_id": "f8798156b4e54cd9b7e9a7cc01f2f22e",
       "version_major": 2,
       "version_minor": 0
      },
      "text/plain": [
       "Text(value='', description='Precipitation Pre 15: ', layout=Layout(width='500px'), placeholder='Average Precip…"
      ]
     },
     "metadata": {},
     "output_type": "display_data"
    },
    {
     "data": {
      "application/vnd.jupyter.widget-view+json": {
       "model_id": "96514e58eb644e06ab6e62e9824dea2d",
       "version_major": 2,
       "version_minor": 0
      },
      "text/plain": [
       "Text(value='', description='Precipitation Pre 7: ', layout=Layout(width='500px'), placeholder='Average Precipi…"
      ]
     },
     "metadata": {},
     "output_type": "display_data"
    },
    {
     "data": {
      "application/vnd.jupyter.widget-view+json": {
       "model_id": "3613d7931bbb4235814546458c5a6527",
       "version_major": 2,
       "version_minor": 0
      },
      "text/plain": [
       "Text(value='', description='Remoteness: ', layout=Layout(width='500px'), placeholder='Remoteness of the fire',…"
      ]
     },
     "metadata": {},
     "output_type": "display_data"
    },
    {
     "data": {
      "application/vnd.jupyter.widget-view+json": {
       "model_id": "7f0e5109235c43d99133b9393d17ee13",
       "version_major": 2,
       "version_minor": 0
      },
      "text/plain": [
       "Text(value='', description='Arson: ', layout=Layout(width='500px'), placeholder='0 for false, 1 for true', sty…"
      ]
     },
     "metadata": {},
     "output_type": "display_data"
    },
    {
     "data": {
      "application/vnd.jupyter.widget-view+json": {
       "model_id": "a5827cc1cb8b4c70ab93ad5b178f8993",
       "version_major": 2,
       "version_minor": 0
      },
      "text/plain": [
       "Text(value='', description='Campfire: ', layout=Layout(width='500px'), placeholder='0 for false, 1 for true', …"
      ]
     },
     "metadata": {},
     "output_type": "display_data"
    },
    {
     "data": {
      "application/vnd.jupyter.widget-view+json": {
       "model_id": "d7fd7ea101364a2198ea0bb270f1ac23",
       "version_major": 2,
       "version_minor": 0
      },
      "text/plain": [
       "Text(value='', description='Children: ', layout=Layout(width='500px'), placeholder='0 for false, 1 for true', …"
      ]
     },
     "metadata": {},
     "output_type": "display_data"
    },
    {
     "data": {
      "application/vnd.jupyter.widget-view+json": {
       "model_id": "23b4efdd242847dc82779980469cd593",
       "version_major": 2,
       "version_minor": 0
      },
      "text/plain": [
       "Text(value='', description='Debris Burning: ', layout=Layout(width='500px'), placeholder='0 for false, 1 for t…"
      ]
     },
     "metadata": {},
     "output_type": "display_data"
    },
    {
     "data": {
      "application/vnd.jupyter.widget-view+json": {
       "model_id": "feedc619b7eb45f0b0066ac472150cdb",
       "version_major": 2,
       "version_minor": 0
      },
      "text/plain": [
       "Text(value='', description='Equipment Use: ', layout=Layout(width='500px'), placeholder='0 for false, 1 for tr…"
      ]
     },
     "metadata": {},
     "output_type": "display_data"
    },
    {
     "data": {
      "application/vnd.jupyter.widget-view+json": {
       "model_id": "ef70906395174a1eb74dda3d566b6b58",
       "version_major": 2,
       "version_minor": 0
      },
      "text/plain": [
       "Text(value='', description='Fireworks: ', layout=Layout(width='500px'), placeholder='0 for false, 1 for true',…"
      ]
     },
     "metadata": {},
     "output_type": "display_data"
    },
    {
     "data": {
      "application/vnd.jupyter.widget-view+json": {
       "model_id": "cf58f6d1d6aa4f83b297efe638780aa9",
       "version_major": 2,
       "version_minor": 0
      },
      "text/plain": [
       "Text(value='', description='Lightning: ', layout=Layout(width='500px'), placeholder='0 for false, 1 for true',…"
      ]
     },
     "metadata": {},
     "output_type": "display_data"
    },
    {
     "data": {
      "application/vnd.jupyter.widget-view+json": {
       "model_id": "bf62b41532ed4792a8702e5f2fbdc38d",
       "version_major": 2,
       "version_minor": 0
      },
      "text/plain": [
       "Text(value='', description='Miscellaneous: ', layout=Layout(width='500px'), placeholder='0 for false, 1 for tr…"
      ]
     },
     "metadata": {},
     "output_type": "display_data"
    },
    {
     "data": {
      "application/vnd.jupyter.widget-view+json": {
       "model_id": "5994cccc2e8c420da7949f708d5b5843",
       "version_major": 2,
       "version_minor": 0
      },
      "text/plain": [
       "Text(value='', description='Missing/Undefined: ', layout=Layout(width='500px'), placeholder='0 for false, 1 fo…"
      ]
     },
     "metadata": {},
     "output_type": "display_data"
    },
    {
     "data": {
      "application/vnd.jupyter.widget-view+json": {
       "model_id": "a759a95ca6894b62861b9bf3b59552f4",
       "version_major": 2,
       "version_minor": 0
      },
      "text/plain": [
       "Text(value='', description='Powerline: ', layout=Layout(width='500px'), placeholder='0 for false, 1 for true',…"
      ]
     },
     "metadata": {},
     "output_type": "display_data"
    },
    {
     "data": {
      "application/vnd.jupyter.widget-view+json": {
       "model_id": "ec585c78091e471e8c215c36bc2ced79",
       "version_major": 2,
       "version_minor": 0
      },
      "text/plain": [
       "Text(value='', description='Railroad: ', layout=Layout(width='500px'), placeholder='0 for false, 1 for true', …"
      ]
     },
     "metadata": {},
     "output_type": "display_data"
    },
    {
     "data": {
      "application/vnd.jupyter.widget-view+json": {
       "model_id": "93dba8f503484803a8eca4c7e29028cf",
       "version_major": 2,
       "version_minor": 0
      },
      "text/plain": [
       "Text(value='', description='Smoking: ', layout=Layout(width='500px'), placeholder='0 for false, 1 for true', s…"
      ]
     },
     "metadata": {},
     "output_type": "display_data"
    },
    {
     "data": {
      "application/vnd.jupyter.widget-view+json": {
       "model_id": "2fb05de1a2494397be950eb8d1e1d3d1",
       "version_major": 2,
       "version_minor": 0
      },
      "text/plain": [
       "Text(value='', description='Structure: ', layout=Layout(width='500px'), placeholder='0 for false, 1 for true',…"
      ]
     },
     "metadata": {},
     "output_type": "display_data"
    }
   ],
   "source": [
    "display(Title)\n",
    "display(Info)\n",
    "display(latitude_input, longitude_input, Temp_pre_30_input, Temp_pre_15_input, Temp_pre_7_input, Wind_pre_30_input, Wind_pre_15_input, Wind_pre_7_input, Hum_pre_30_input, Hum_pre_15_input, Hum_pre_7_input, Prec_pre_30_input, Prec_pre_15_input, Prec_pre_7_input, Remoteness_input, Arson_input, Campfire_input, Children_input, Debris_Burning_input, Equipment_Use_input, Fireworks_input, Lightning_input, Miscellaneous_input, Missing_Undefined_input, Powerline_input, Railroad_input, Smoking_input, Structure_input)\n",
    "\n",
    "inputs = [latitude_input, longitude_input, Temp_pre_30_input, Temp_pre_15_input, Temp_pre_7_input, Wind_pre_30_input, Wind_pre_15_input, Wind_pre_7_input, Hum_pre_30_input, Hum_pre_15_input, Hum_pre_7_input, Prec_pre_30_input, Prec_pre_15_input, Prec_pre_7_input, Remoteness_input, Arson_input, Campfire_input, Children_input, Debris_Burning_input, Equipment_Use_input, Fireworks_input, Lightning_input, Miscellaneous_input, Missing_Undefined_input, Powerline_input, Railroad_input, Smoking_input, Structure_input]"
   ]
  },
  {
   "cell_type": "code",
   "execution_count": 178,
   "metadata": {},
   "outputs": [],
   "source": [
    "predict_button = Button(description=\"Predict!\")\n",
    "result = Output()"
   ]
  },
  {
   "cell_type": "code",
   "execution_count": 179,
   "metadata": {},
   "outputs": [],
   "source": [
    "def predict(button_info):\n",
    "    try:\n",
    "        #default values if nothing is entered. Value is the mean of dataset\n",
    "        latitude = 36.459499\n",
    "        longitude = 95.776712\n",
    "        temp_30 = 14.733711\n",
    "        temp_15 = 14.884784\n",
    "        temp_7 = 15.028015\n",
    "        wind_30 = 2.938778\n",
    "        wind_15 = 2.828433\n",
    "        wind_7 = 2.757357\n",
    "        hum_30 = 55.241678\n",
    "        hum_15 = 52.108189\n",
    "        hum_7 = 50.153585\n",
    "        prec_30 = 35.717111\n",
    "        prec_15 = 16.033648\n",
    "        prec_7 = 6.659093\n",
    "        remoteness = 0.244195\n",
    "        arson = 0.166488\n",
    "        campfire = 0.025041\n",
    "        children = 0.023218\n",
    "        debris = 0.260624\n",
    "        equipment = 0.078260\n",
    "        fireworks = 0.004255\n",
    "        lightning = 0.157226\n",
    "        miscellaneous = 0.154259\n",
    "        missing = 0.081713\n",
    "        powerline = 0.009919\n",
    "        railroad = 0.016873\n",
    "        smoking = 0.020714\n",
    "        structure = 0.001410\n",
    "        \n",
    "        var_list=[latitude ,longitude, temp_30, temp_15, temp_7, wind_30, wind_15, wind_7, hum_30, hum_15, hum_7, \\\n",
    "            prec_30, prec_15, prec_7, remoteness, arson, campfire, children, debris, equipment, fireworks, lightning, \\\n",
    "            miscellaneous, missing, powerline, railroad, smoking, structure]\n",
    "        user_var_list=[]\n",
    "        \n",
    "        \n",
    "        for x,y in zip(inputs, var_list):\n",
    "            if not(x.value ==''):\n",
    "                y = x.value\n",
    "                print(x.description , y)\n",
    "            else:\n",
    "                print(y)       \n",
    "            user_var_list.append(float(y))\n",
    "        #print(user_var_list)\n",
    "        \n",
    "        \n",
    "        user_values = pd.DataFrame(np.array([user_var_list]))\n",
    "        #print(\"values\", user_values)\n",
    "        pred = model.predict([user_values]).tolist()\n",
    "        \n",
    "        classes = ['C', 'B', 'F', 'D', 'E', 'G']\n",
    "\n",
    "        #print(pred)\n",
    "        pred_class = classes[pred[0].index(max(max(pred)))]\n",
    "\n",
    "        with result:\n",
    "            print(f\"The values you entered are for a {pred_class}\")\n",
    "    except Exception as e:\n",
    "        with result:\n",
    "            print(e)"
   ]
  },
  {
   "cell_type": "code",
   "execution_count": 180,
   "metadata": {},
   "outputs": [],
   "source": [
    "predict_button.on_click(predict)"
   ]
  },
  {
   "cell_type": "code",
   "execution_count": 181,
   "metadata": {},
   "outputs": [
    {
     "data": {
      "application/vnd.jupyter.widget-view+json": {
       "model_id": "94d333bd330c43f4956f71b841a84cc8",
       "version_major": 2,
       "version_minor": 0
      },
      "text/plain": [
       "Button(description='Predict!', style=ButtonStyle())"
      ]
     },
     "metadata": {},
     "output_type": "display_data"
    },
    {
     "data": {
      "application/vnd.jupyter.widget-view+json": {
       "model_id": "d36bd33a29af4d71ad6863d0e19f9e2f",
       "version_major": 2,
       "version_minor": 0
      },
      "text/plain": [
       "Output()"
      ]
     },
     "metadata": {},
     "output_type": "display_data"
    },
    {
     "name": "stdout",
     "output_type": "stream",
     "text": [
      "Latitude:  32.43\n",
      "Longitude:  -84\n",
      "Temperature Pre 30:  8.28\n",
      "Temperature Pre 15:  6.38\n",
      "Temperature Pre 15:  7.2\n",
      "Wind Pre 30:  3.05\n",
      "Wind Pre 15:  3.36\n",
      "Wind Pre 7:  3\n",
      "Humidity Pre 30:  56\n",
      "Humidity Pre 15:  55\n",
      "Humidity Pre 7:  66\n",
      "Precipitation Pre 30:  0\n",
      "Precipitation Pre 15:  0\n",
      "Precipitation Pre 7:  0\n",
      "Remoteness:  .15\n",
      "Arson:  0\n",
      "Campfire:  1\n",
      "Children:  0\n",
      "Debris Burning:  0\n",
      "Equipment Use:  0\n",
      "Fireworks:  0\n",
      "Lightning:  0\n",
      "Miscellaneous:  0\n",
      "Missing/Undefined:  0\n",
      "Powerline:  0\n",
      "Railroad:  0\n",
      "Smoking:  0\n",
      "Structure:  0\n",
      "Latitude:  45.44\n",
      "Longitude:  -114.55\n",
      "Temperature Pre 30:  21.45\n",
      "Temperature Pre 15:  22\n",
      "Temperature Pre 15:  22\n",
      "Wind Pre 30:  1.9\n",
      "Wind Pre 15:  1.96\n",
      "Wind Pre 7:  1.7\n",
      "Humidity Pre 30:  47.8\n",
      "Humidity Pre 15:  43.4\n",
      "Humidity Pre 7:  42.03\n",
      "Precipitation Pre 30:  0\n",
      "Precipitation Pre 15:  0\n",
      "Precipitation Pre 7:  0\n",
      "Remoteness:  .44\n",
      "Arson:  0\n",
      "Campfire:  0\n",
      "Children:  0\n",
      "Debris Burning:  0\n",
      "Equipment Use:  0\n",
      "Fireworks:  0\n",
      "Lightning:  1\n",
      "Miscellaneous:  0\n",
      "Missing/Undefined:  0\n",
      "Powerline:  0\n",
      "Railroad:  0\n",
      "Smoking:  0\n",
      "Structure:  0\n"
     ]
    }
   ],
   "source": [
    "display(predict_button, result)"
   ]
  },
  {
   "cell_type": "code",
   "execution_count": null,
   "metadata": {},
   "outputs": [],
   "source": []
  }
 ],
 "metadata": {
  "kernelspec": {
   "display_name": "Python 3",
   "language": "python",
   "name": "python3"
  },
  "language_info": {
   "codemirror_mode": {
    "name": "ipython",
    "version": 3
   },
   "file_extension": ".py",
   "mimetype": "text/x-python",
   "name": "python",
   "nbconvert_exporter": "python",
   "pygments_lexer": "ipython3",
   "version": "3.8.3"
  }
 },
 "nbformat": 4,
 "nbformat_minor": 4
}
