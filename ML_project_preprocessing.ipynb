{
  "nbformat": 4,
  "nbformat_minor": 0,
  "metadata": {
    "kernelspec": {
      "display_name": "Python 3",
      "language": "python",
      "name": "python3"
    },
    "language_info": {
      "codemirror_mode": {
        "name": "ipython",
        "version": 3
      },
      "file_extension": ".py",
      "mimetype": "text/x-python",
      "name": "python",
      "nbconvert_exporter": "python",
      "pygments_lexer": "ipython3",
      "version": "3.8.3"
    },
    "colab": {
      "name": "ML_project_preprocessing_Yixiong_Ma.ipynb",
      "provenance": [],
      "collapsed_sections": []
    }
  },
  "cells": [
    {
      "cell_type": "code",
      "metadata": {
        "id": "poJH-BDDEmMP"
      },
      "source": [
        "import pandas as pd\n",
        "import numpy as np\n",
        "import sklearn as sk\n",
        "import matplotlib.pyplot as plt\n",
        "import seaborn as sns\n",
        "\n",
        "plt.style.use('ggplot')"
      ],
      "execution_count": null,
      "outputs": []
    },
    {
      "cell_type": "code",
      "metadata": {
        "id": "9RvCBGMfEmMT",
        "colab": {
          "base_uri": "https://localhost:8080/",
          "height": 719
        },
        "outputId": "5927b861-b07d-422d-dfa5-ce4afe5fa7c0"
      },
      "source": [
        "url = \"https://raw.githubusercontent.com/lento0829/CSCI470/master/Preprocessed_dataset.csv\"\n",
        "df = pd.read_csv(url)\n",
        "df.head(10)"
      ],
      "execution_count": null,
      "outputs": [
        {
          "output_type": "execute_result",
          "data": {
            "text/html": [
              "<div>\n",
              "<style scoped>\n",
              "    .dataframe tbody tr th:only-of-type {\n",
              "        vertical-align: middle;\n",
              "    }\n",
              "\n",
              "    .dataframe tbody tr th {\n",
              "        vertical-align: top;\n",
              "    }\n",
              "\n",
              "    .dataframe thead th {\n",
              "        text-align: right;\n",
              "    }\n",
              "</style>\n",
              "<table border=\"1\" class=\"dataframe\">\n",
              "  <thead>\n",
              "    <tr style=\"text-align: right;\">\n",
              "      <th></th>\n",
              "      <th>fire_size</th>\n",
              "      <th>fire_size_class</th>\n",
              "      <th>latitude</th>\n",
              "      <th>longitude</th>\n",
              "      <th>state</th>\n",
              "      <th>disc_date_pre</th>\n",
              "      <th>disc_pre_year</th>\n",
              "      <th>disc_pre_month</th>\n",
              "      <th>weather_file</th>\n",
              "      <th>Temp_pre_30</th>\n",
              "      <th>Temp_pre_15</th>\n",
              "      <th>Temp_pre_7</th>\n",
              "      <th>Wind_pre_30</th>\n",
              "      <th>Wind_pre_15</th>\n",
              "      <th>Wind_pre_7</th>\n",
              "      <th>Hum_pre_30</th>\n",
              "      <th>Hum_pre_15</th>\n",
              "      <th>Hum_pre_7</th>\n",
              "      <th>Prec_pre_30</th>\n",
              "      <th>Prec_pre_15</th>\n",
              "      <th>Prec_pre_7</th>\n",
              "      <th>remoteness</th>\n",
              "      <th>Arson</th>\n",
              "      <th>Campfire</th>\n",
              "      <th>Children</th>\n",
              "      <th>Debris Burning</th>\n",
              "      <th>Equipment Use</th>\n",
              "      <th>Fireworks</th>\n",
              "      <th>Lightning</th>\n",
              "      <th>Miscellaneous</th>\n",
              "      <th>Missing/Undefined</th>\n",
              "      <th>Powerline</th>\n",
              "      <th>Railroad</th>\n",
              "      <th>Smoking</th>\n",
              "      <th>Structure</th>\n",
              "    </tr>\n",
              "  </thead>\n",
              "  <tbody>\n",
              "    <tr>\n",
              "      <th>0</th>\n",
              "      <td>10.0</td>\n",
              "      <td>C</td>\n",
              "      <td>18.105072</td>\n",
              "      <td>-66.753044</td>\n",
              "      <td>PR</td>\n",
              "      <td>1/12/2007</td>\n",
              "      <td>2007</td>\n",
              "      <td>Jan</td>\n",
              "      <td>785140-11603-2007.gz</td>\n",
              "      <td>24.480974</td>\n",
              "      <td>24.716923</td>\n",
              "      <td>24.902597</td>\n",
              "      <td>4.341807</td>\n",
              "      <td>3.492857</td>\n",
              "      <td>3.262092</td>\n",
              "      <td>78.216590</td>\n",
              "      <td>76.793750</td>\n",
              "      <td>76.381579</td>\n",
              "      <td>0.0</td>\n",
              "      <td>0.0</td>\n",
              "      <td>0.0</td>\n",
              "      <td>0.017923</td>\n",
              "      <td>0</td>\n",
              "      <td>0</td>\n",
              "      <td>0</td>\n",
              "      <td>0</td>\n",
              "      <td>0</td>\n",
              "      <td>0</td>\n",
              "      <td>0</td>\n",
              "      <td>0</td>\n",
              "      <td>1</td>\n",
              "      <td>0</td>\n",
              "      <td>0</td>\n",
              "      <td>0</td>\n",
              "      <td>0</td>\n",
              "    </tr>\n",
              "    <tr>\n",
              "      <th>1</th>\n",
              "      <td>3.0</td>\n",
              "      <td>B</td>\n",
              "      <td>35.038330</td>\n",
              "      <td>-87.610000</td>\n",
              "      <td>TN</td>\n",
              "      <td>11/11/2006</td>\n",
              "      <td>2006</td>\n",
              "      <td>Nov</td>\n",
              "      <td>723235-13896-2006.gz</td>\n",
              "      <td>7.553433</td>\n",
              "      <td>7.010000</td>\n",
              "      <td>0.343529</td>\n",
              "      <td>2.709764</td>\n",
              "      <td>2.881707</td>\n",
              "      <td>1.976471</td>\n",
              "      <td>70.840000</td>\n",
              "      <td>65.858911</td>\n",
              "      <td>55.505882</td>\n",
              "      <td>59.8</td>\n",
              "      <td>8.4</td>\n",
              "      <td>0.0</td>\n",
              "      <td>0.184355</td>\n",
              "      <td>1</td>\n",
              "      <td>0</td>\n",
              "      <td>0</td>\n",
              "      <td>0</td>\n",
              "      <td>0</td>\n",
              "      <td>0</td>\n",
              "      <td>0</td>\n",
              "      <td>0</td>\n",
              "      <td>0</td>\n",
              "      <td>0</td>\n",
              "      <td>0</td>\n",
              "      <td>0</td>\n",
              "      <td>0</td>\n",
              "    </tr>\n",
              "    <tr>\n",
              "      <th>2</th>\n",
              "      <td>60.0</td>\n",
              "      <td>C</td>\n",
              "      <td>34.947800</td>\n",
              "      <td>-88.722500</td>\n",
              "      <td>MS</td>\n",
              "      <td>1/30/2004</td>\n",
              "      <td>2004</td>\n",
              "      <td>Jan</td>\n",
              "      <td>723235-13896-2004.gz</td>\n",
              "      <td>4.971930</td>\n",
              "      <td>5.782766</td>\n",
              "      <td>5.558750</td>\n",
              "      <td>3.364499</td>\n",
              "      <td>2.923830</td>\n",
              "      <td>2.695833</td>\n",
              "      <td>75.531629</td>\n",
              "      <td>75.868613</td>\n",
              "      <td>76.812834</td>\n",
              "      <td>168.8</td>\n",
              "      <td>42.2</td>\n",
              "      <td>18.1</td>\n",
              "      <td>0.194544</td>\n",
              "      <td>1</td>\n",
              "      <td>0</td>\n",
              "      <td>0</td>\n",
              "      <td>0</td>\n",
              "      <td>0</td>\n",
              "      <td>0</td>\n",
              "      <td>0</td>\n",
              "      <td>0</td>\n",
              "      <td>0</td>\n",
              "      <td>0</td>\n",
              "      <td>0</td>\n",
              "      <td>0</td>\n",
              "      <td>0</td>\n",
              "    </tr>\n",
              "    <tr>\n",
              "      <th>3</th>\n",
              "      <td>1.0</td>\n",
              "      <td>B</td>\n",
              "      <td>39.641400</td>\n",
              "      <td>-119.308300</td>\n",
              "      <td>NV</td>\n",
              "      <td>5/7/2005</td>\n",
              "      <td>2005</td>\n",
              "      <td>May</td>\n",
              "      <td>724880-23185-2005.gz</td>\n",
              "      <td>16.275967</td>\n",
              "      <td>18.996181</td>\n",
              "      <td>18.142564</td>\n",
              "      <td>4.054982</td>\n",
              "      <td>3.398329</td>\n",
              "      <td>3.671282</td>\n",
              "      <td>44.778429</td>\n",
              "      <td>37.140811</td>\n",
              "      <td>35.353846</td>\n",
              "      <td>10.4</td>\n",
              "      <td>7.2</td>\n",
              "      <td>0.0</td>\n",
              "      <td>0.487447</td>\n",
              "      <td>0</td>\n",
              "      <td>0</td>\n",
              "      <td>0</td>\n",
              "      <td>1</td>\n",
              "      <td>0</td>\n",
              "      <td>0</td>\n",
              "      <td>0</td>\n",
              "      <td>0</td>\n",
              "      <td>0</td>\n",
              "      <td>0</td>\n",
              "      <td>0</td>\n",
              "      <td>0</td>\n",
              "      <td>0</td>\n",
              "    </tr>\n",
              "    <tr>\n",
              "      <th>4</th>\n",
              "      <td>5.2</td>\n",
              "      <td>B</td>\n",
              "      <td>31.316978</td>\n",
              "      <td>-83.393649</td>\n",
              "      <td>GA</td>\n",
              "      <td>12/11/2008</td>\n",
              "      <td>2008</td>\n",
              "      <td>Dec</td>\n",
              "      <td>747810-13857-2008.gz</td>\n",
              "      <td>14.877341</td>\n",
              "      <td>16.409326</td>\n",
              "      <td>0.000000</td>\n",
              "      <td>2.000214</td>\n",
              "      <td>1.727202</td>\n",
              "      <td>0.000000</td>\n",
              "      <td>79.896679</td>\n",
              "      <td>73.431818</td>\n",
              "      <td>0.000000</td>\n",
              "      <td>26.0</td>\n",
              "      <td>0.0</td>\n",
              "      <td>0.0</td>\n",
              "      <td>0.148904</td>\n",
              "      <td>0</td>\n",
              "      <td>0</td>\n",
              "      <td>0</td>\n",
              "      <td>1</td>\n",
              "      <td>0</td>\n",
              "      <td>0</td>\n",
              "      <td>0</td>\n",
              "      <td>0</td>\n",
              "      <td>0</td>\n",
              "      <td>0</td>\n",
              "      <td>0</td>\n",
              "      <td>0</td>\n",
              "      <td>0</td>\n",
              "    </tr>\n",
              "    <tr>\n",
              "      <th>5</th>\n",
              "      <td>1.0</td>\n",
              "      <td>B</td>\n",
              "      <td>30.904720</td>\n",
              "      <td>-93.557500</td>\n",
              "      <td>TX</td>\n",
              "      <td>10/13/2005</td>\n",
              "      <td>2005</td>\n",
              "      <td>Oct</td>\n",
              "      <td>722820-99999-2005.gz</td>\n",
              "      <td>16.851939</td>\n",
              "      <td>16.997783</td>\n",
              "      <td>20.434783</td>\n",
              "      <td>1.331257</td>\n",
              "      <td>1.472949</td>\n",
              "      <td>1.424783</td>\n",
              "      <td>72.899478</td>\n",
              "      <td>75.061381</td>\n",
              "      <td>77.924623</td>\n",
              "      <td>28.4</td>\n",
              "      <td>27.5</td>\n",
              "      <td>1.2</td>\n",
              "      <td>0.241894</td>\n",
              "      <td>0</td>\n",
              "      <td>1</td>\n",
              "      <td>0</td>\n",
              "      <td>0</td>\n",
              "      <td>0</td>\n",
              "      <td>0</td>\n",
              "      <td>0</td>\n",
              "      <td>0</td>\n",
              "      <td>0</td>\n",
              "      <td>0</td>\n",
              "      <td>0</td>\n",
              "      <td>0</td>\n",
              "      <td>0</td>\n",
              "    </tr>\n",
              "    <tr>\n",
              "      <th>6</th>\n",
              "      <td>1.0</td>\n",
              "      <td>B</td>\n",
              "      <td>35.900310</td>\n",
              "      <td>-92.061180</td>\n",
              "      <td>AR</td>\n",
              "      <td>7/9/2007</td>\n",
              "      <td>2007</td>\n",
              "      <td>Jul</td>\n",
              "      <td>723448-53934-2007.gz</td>\n",
              "      <td>26.655241</td>\n",
              "      <td>27.264870</td>\n",
              "      <td>28.968064</td>\n",
              "      <td>1.768074</td>\n",
              "      <td>1.705297</td>\n",
              "      <td>1.827944</td>\n",
              "      <td>68.319022</td>\n",
              "      <td>67.575419</td>\n",
              "      <td>65.077844</td>\n",
              "      <td>6.6</td>\n",
              "      <td>3.3</td>\n",
              "      <td>0.0</td>\n",
              "      <td>0.224629</td>\n",
              "      <td>1</td>\n",
              "      <td>0</td>\n",
              "      <td>0</td>\n",
              "      <td>0</td>\n",
              "      <td>0</td>\n",
              "      <td>0</td>\n",
              "      <td>0</td>\n",
              "      <td>0</td>\n",
              "      <td>0</td>\n",
              "      <td>0</td>\n",
              "      <td>0</td>\n",
              "      <td>0</td>\n",
              "      <td>0</td>\n",
              "    </tr>\n",
              "    <tr>\n",
              "      <th>7</th>\n",
              "      <td>1.0</td>\n",
              "      <td>B</td>\n",
              "      <td>48.839400</td>\n",
              "      <td>-99.718500</td>\n",
              "      <td>ND</td>\n",
              "      <td>3/20/2004</td>\n",
              "      <td>2004</td>\n",
              "      <td>Mar</td>\n",
              "      <td>727675-99999-2004.gz</td>\n",
              "      <td>4.600950</td>\n",
              "      <td>6.861878</td>\n",
              "      <td>6.053333</td>\n",
              "      <td>6.380760</td>\n",
              "      <td>6.334254</td>\n",
              "      <td>6.645333</td>\n",
              "      <td>64.606509</td>\n",
              "      <td>55.943038</td>\n",
              "      <td>54.337838</td>\n",
              "      <td>12.3</td>\n",
              "      <td>1.8</td>\n",
              "      <td>0.0</td>\n",
              "      <td>0.291683</td>\n",
              "      <td>0</td>\n",
              "      <td>0</td>\n",
              "      <td>0</td>\n",
              "      <td>0</td>\n",
              "      <td>0</td>\n",
              "      <td>0</td>\n",
              "      <td>0</td>\n",
              "      <td>1</td>\n",
              "      <td>0</td>\n",
              "      <td>0</td>\n",
              "      <td>0</td>\n",
              "      <td>0</td>\n",
              "      <td>0</td>\n",
              "    </tr>\n",
              "    <tr>\n",
              "      <th>8</th>\n",
              "      <td>8.3</td>\n",
              "      <td>B</td>\n",
              "      <td>30.845339</td>\n",
              "      <td>-83.127987</td>\n",
              "      <td>GA</td>\n",
              "      <td>2/4/2010</td>\n",
              "      <td>2010</td>\n",
              "      <td>Feb</td>\n",
              "      <td>722166-93845-2010.gz</td>\n",
              "      <td>8.410983</td>\n",
              "      <td>9.007193</td>\n",
              "      <td>8.209000</td>\n",
              "      <td>1.988671</td>\n",
              "      <td>1.745012</td>\n",
              "      <td>2.224500</td>\n",
              "      <td>71.260870</td>\n",
              "      <td>69.281030</td>\n",
              "      <td>64.797980</td>\n",
              "      <td>76.3</td>\n",
              "      <td>26.2</td>\n",
              "      <td>8.4</td>\n",
              "      <td>0.146888</td>\n",
              "      <td>0</td>\n",
              "      <td>0</td>\n",
              "      <td>0</td>\n",
              "      <td>1</td>\n",
              "      <td>0</td>\n",
              "      <td>0</td>\n",
              "      <td>0</td>\n",
              "      <td>0</td>\n",
              "      <td>0</td>\n",
              "      <td>0</td>\n",
              "      <td>0</td>\n",
              "      <td>0</td>\n",
              "      <td>0</td>\n",
              "    </tr>\n",
              "    <tr>\n",
              "      <th>9</th>\n",
              "      <td>1.0</td>\n",
              "      <td>B</td>\n",
              "      <td>33.855740</td>\n",
              "      <td>-85.311075</td>\n",
              "      <td>GA</td>\n",
              "      <td>9/13/2003</td>\n",
              "      <td>2003</td>\n",
              "      <td>Sep</td>\n",
              "      <td>723200-93801-2003.gz</td>\n",
              "      <td>0.000000</td>\n",
              "      <td>0.000000</td>\n",
              "      <td>0.000000</td>\n",
              "      <td>0.000000</td>\n",
              "      <td>0.000000</td>\n",
              "      <td>0.000000</td>\n",
              "      <td>0.000000</td>\n",
              "      <td>0.000000</td>\n",
              "      <td>0.000000</td>\n",
              "      <td>0.0</td>\n",
              "      <td>0.0</td>\n",
              "      <td>0.0</td>\n",
              "      <td>0.164315</td>\n",
              "      <td>0</td>\n",
              "      <td>0</td>\n",
              "      <td>0</td>\n",
              "      <td>1</td>\n",
              "      <td>0</td>\n",
              "      <td>0</td>\n",
              "      <td>0</td>\n",
              "      <td>0</td>\n",
              "      <td>0</td>\n",
              "      <td>0</td>\n",
              "      <td>0</td>\n",
              "      <td>0</td>\n",
              "      <td>0</td>\n",
              "    </tr>\n",
              "  </tbody>\n",
              "</table>\n",
              "</div>"
            ],
            "text/plain": [
              "   fire_size fire_size_class   latitude  ...  Railroad Smoking Structure\n",
              "0       10.0               C  18.105072  ...         0       0         0\n",
              "1        3.0               B  35.038330  ...         0       0         0\n",
              "2       60.0               C  34.947800  ...         0       0         0\n",
              "3        1.0               B  39.641400  ...         0       0         0\n",
              "4        5.2               B  31.316978  ...         0       0         0\n",
              "5        1.0               B  30.904720  ...         0       0         0\n",
              "6        1.0               B  35.900310  ...         0       0         0\n",
              "7        1.0               B  48.839400  ...         0       0         0\n",
              "8        8.3               B  30.845339  ...         0       0         0\n",
              "9        1.0               B  33.855740  ...         0       0         0\n",
              "\n",
              "[10 rows x 35 columns]"
            ]
          },
          "metadata": {
            "tags": []
          },
          "execution_count": 2
        }
      ]
    },
    {
      "cell_type": "code",
      "metadata": {
        "id": "EBdCu2gUIfKy"
      },
      "source": [
        "df.describe(include=)"
      ],
      "execution_count": null,
      "outputs": []
    },
    {
      "cell_type": "code",
      "metadata": {
        "id": "TZY_qewwIfJz"
      },
      "source": [
        ""
      ],
      "execution_count": null,
      "outputs": []
    },
    {
      "cell_type": "code",
      "metadata": {
        "id": "LuYd0T1OIfHn"
      },
      "source": [
        ""
      ],
      "execution_count": null,
      "outputs": []
    },
    {
      "cell_type": "code",
      "metadata": {
        "id": "9DDavG3yEmMX",
        "outputId": "4442fb92-c9aa-464e-ae6c-29cc55a1d784"
      },
      "source": [
        "df1 = df[df['Prec_pre_30'] == -1]\n",
        "df1.disc_clean_date.value_counts()"
      ],
      "execution_count": null,
      "outputs": [
        {
          "output_type": "execute_result",
          "data": {
            "text/plain": [
              "2/25/1995     25\n",
              "2/24/1996     22\n",
              "3/2/1992      20\n",
              "3/19/1994     20\n",
              "3/15/1994     20\n",
              "              ..\n",
              "8/29/1998      1\n",
              "7/11/2008      1\n",
              "5/7/2013       1\n",
              "3/17/2009      1\n",
              "11/20/2006     1\n",
              "Name: disc_clean_date, Length: 5608, dtype: int64"
            ]
          },
          "metadata": {
            "tags": []
          },
          "execution_count": 62
        }
      ]
    },
    {
      "cell_type": "code",
      "metadata": {
        "id": "swaov87TEmMa",
        "outputId": "dc724c20-a0c9-4e0b-85f4-6ab9c2a6450d"
      },
      "source": [
        "fireclass = df['fire_size_class'].value_counts().sort_index()\n",
        "print(fireclass)"
      ],
      "execution_count": null,
      "outputs": [
        {
          "output_type": "stream",
          "text": [
            "B    36522\n",
            "C    10811\n",
            "D     1394\n",
            "E      700\n",
            "F     1968\n",
            "G     3972\n",
            "Name: fire_size_class, dtype: int64\n"
          ],
          "name": "stdout"
        }
      ]
    },
    {
      "cell_type": "code",
      "metadata": {
        "id": "p0bO8nylEmMc",
        "outputId": "df7ba512-6e58-42ae-b314-a9df9510a192"
      },
      "source": [
        "fireclass.plot(kind='bar')"
      ],
      "execution_count": null,
      "outputs": [
        {
          "output_type": "execute_result",
          "data": {
            "text/plain": [
              "<matplotlib.axes._subplots.AxesSubplot at 0x1f9b57d5c40>"
            ]
          },
          "metadata": {
            "tags": []
          },
          "execution_count": 4
        },
        {
          "output_type": "display_data",
          "data": {
            "image/png": "[encoded data removed]",
            "text/plain": [
              "<Figure size 432x288 with 1 Axes>"
            ]
          },
          "metadata": {
            "tags": []
          }
        }
      ]
    },
    {
      "cell_type": "code",
      "metadata": {
        "id": "0oor3bn6EmMf",
        "outputId": "73626aeb-03d0-4011-cd63-a45a7184affb"
      },
      "source": [
        "df['stat_cause_descr'].value_counts()"
      ],
      "execution_count": null,
      "outputs": [
        {
          "output_type": "execute_result",
          "data": {
            "text/plain": [
              "Debris Burning       14278\n",
              "Arson                 9724\n",
              "Miscellaneous         8344\n",
              "Lightning             8218\n",
              "Missing/Undefined     5063\n",
              "Equipment Use         4107\n",
              "Campfire              1367\n",
              "Children              1280\n",
              "Smoking               1181\n",
              "Railroad              1021\n",
              "Powerline              483\n",
              "Fireworks              223\n",
              "Structure               78\n",
              "Name: stat_cause_descr, dtype: int64"
            ]
          },
          "metadata": {
            "tags": []
          },
          "execution_count": 5
        }
      ]
    },
    {
      "cell_type": "code",
      "metadata": {
        "id": "Ui_FThzIEmMh",
        "outputId": "fe39d87a-deef-4a82-e15f-ed402cf5b102"
      },
      "source": [
        "df['stat_cause_descr'].value_counts().plot(kind='bar')"
      ],
      "execution_count": null,
      "outputs": [
        {
          "output_type": "execute_result",
          "data": {
            "text/plain": [
              "<matplotlib.axes._subplots.AxesSubplot at 0x1f9b5d24d30>"
            ]
          },
          "metadata": {
            "tags": []
          },
          "execution_count": 6
        },
        {
          "output_type": "display_data",
          "data": {
            "image/png": "[encoded data removed]",
            "text/plain": [
              "<Figure size 432x288 with 1 Axes>"
            ]
          },
          "metadata": {
            "tags": []
          }
        }
      ]
    },
    {
      "cell_type": "code",
      "metadata": {
        "id": "q2iK3-M5EmMk",
        "outputId": "00d99cc5-05ab-4610-eec4-05243098be52"
      },
      "source": [
        "df2 = df[df.fire_size_class == 'G']\n",
        "df2['stat_cause_descr'].value_counts().plot(kind='bar')"
      ],
      "execution_count": null,
      "outputs": [
        {
          "output_type": "execute_result",
          "data": {
            "text/plain": [
              "<matplotlib.axes._subplots.AxesSubplot at 0x1f9b5d332b0>"
            ]
          },
          "metadata": {
            "tags": []
          },
          "execution_count": 7
        },
        {
          "output_type": "display_data",
          "data": {
            "image/png": "[encoded data removed]",
            "text/plain": [
              "<Figure size 432x288 with 1 Axes>"
            ]
          },
          "metadata": {
            "tags": []
          }
        }
      ]
    },
    {
      "cell_type": "code",
      "metadata": {
        "id": "7eoNFfyZEmMn",
        "outputId": "65969c1b-448d-426c-e3d8-8d4bd6b8c15a"
      },
      "source": [
        "main_cause_fireclass = []\n",
        "\n",
        "for i in fireclass.index:\n",
        "    x = df[df['fire_size_class'] == i].stat_cause_descr.value_counts()\n",
        "    main_cause_fireclass.append(x.index[0])\n",
        "    \n",
        "main_cause_fireclass"
      ],
      "execution_count": null,
      "outputs": [
        {
          "output_type": "execute_result",
          "data": {
            "text/plain": [
              "['Debris Burning', 'Arson', 'Arson', 'Lightning', 'Lightning', 'Lightning']"
            ]
          },
          "metadata": {
            "tags": []
          },
          "execution_count": 27
        }
      ]
    },
    {
      "cell_type": "code",
      "metadata": {
        "id": "UE9e2KTlEmMp",
        "outputId": "56ddea6e-f911-41e4-fad4-4b850fa86bca"
      },
      "source": [
        "df.columns.values"
      ],
      "execution_count": null,
      "outputs": [
        {
          "output_type": "execute_result",
          "data": {
            "text/plain": [
              "array(['Unnamed: 0', 'Unnamed: 0.1', 'fire_name', 'fire_size',\n",
              "       'fire_size_class', 'stat_cause_descr', 'latitude', 'longitude',\n",
              "       'state', 'disc_clean_date', 'cont_clean_date', 'discovery_month',\n",
              "       'disc_date_final', 'cont_date_final', 'putout_time',\n",
              "       'disc_date_pre', 'disc_pre_year', 'disc_pre_month',\n",
              "       'wstation_usaf', 'dstation_m', 'wstation_wban', 'wstation_byear',\n",
              "       'wstation_eyear', 'Vegetation', 'fire_mag', 'weather_file',\n",
              "       'Temp_pre_30', 'Temp_pre_15', 'Temp_pre_7', 'Temp_cont',\n",
              "       'Wind_pre_30', 'Wind_pre_15', 'Wind_pre_7', 'Wind_cont',\n",
              "       'Hum_pre_30', 'Hum_pre_15', 'Hum_pre_7', 'Hum_cont', 'Prec_pre_30',\n",
              "       'Prec_pre_15', 'Prec_pre_7', 'Prec_cont', 'remoteness'],\n",
              "      dtype=object)"
            ]
          },
          "metadata": {
            "tags": []
          },
          "execution_count": 13
        }
      ]
    },
    {
      "cell_type": "code",
      "metadata": {
        "id": "XCfFnQkZEmMs",
        "outputId": "7b6782bf-31b7-4e05-9e0b-38d68ac72bc6"
      },
      "source": [
        "df['discovery_month'].value_counts().plot(kind='bar')"
      ],
      "execution_count": null,
      "outputs": [
        {
          "output_type": "execute_result",
          "data": {
            "text/plain": [
              "<matplotlib.axes._subplots.AxesSubplot at 0x1f9b6bf6a30>"
            ]
          },
          "metadata": {
            "tags": []
          },
          "execution_count": 14
        },
        {
          "output_type": "display_data",
          "data": {
            "image/png": "[encoded data removed]",
            "text/plain": [
              "<Figure size 432x288 with 1 Axes>"
            ]
          },
          "metadata": {
            "tags": []
          }
        }
      ]
    },
    {
      "cell_type": "code",
      "metadata": {
        "id": "DIS7BfxdEmMu",
        "outputId": "08e80de8-7f29-4c7f-b55d-89938173b8ae"
      },
      "source": [
        "df2 = df[df.fire_size_class == 'G']\n",
        "df2['discovery_month'].value_counts().plot(kind='bar')"
      ],
      "execution_count": null,
      "outputs": [
        {
          "output_type": "execute_result",
          "data": {
            "text/plain": [
              "<matplotlib.axes._subplots.AxesSubplot at 0x1f9b6e45970>"
            ]
          },
          "metadata": {
            "tags": []
          },
          "execution_count": 15
        },
        {
          "output_type": "display_data",
          "data": {
            "image/png": "[encoded data removed]",
            "text/plain": [
              "<Figure size 432x288 with 1 Axes>"
            ]
          },
          "metadata": {
            "tags": []
          }
        }
      ]
    },
    {
      "cell_type": "code",
      "metadata": {
        "id": "sdJhuNbdEmMw",
        "outputId": "6945fe3f-4a9e-466f-b635-330a3855e4f3"
      },
      "source": [
        "month_value = df['discovery_month'].value_counts()\n",
        "print(month_value)"
      ],
      "execution_count": null,
      "outputs": [
        {
          "output_type": "stream",
          "text": [
            "Mar    8271\n",
            "Apr    7413\n",
            "Jul    5834\n",
            "Aug    5466\n",
            "Feb    5208\n",
            "Jun    4805\n",
            "May    4236\n",
            "Sep    3350\n",
            "Jan    3171\n",
            "Oct    3044\n",
            "Nov    2768\n",
            "Dec    1801\n",
            "Name: discovery_month, dtype: int64\n"
          ],
          "name": "stdout"
        }
      ]
    },
    {
      "cell_type": "code",
      "metadata": {
        "id": "7j-QCZlxEmMy",
        "outputId": "bb34925a-8cc0-4c18-9dd8-7d31a4b3677e"
      },
      "source": [
        "main_cause_month = []\n",
        "\n",
        "for j in month_value.index:\n",
        "    dmx = df[df['discovery_month'] == j].stat_cause_descr.value_counts()\n",
        "    main_cause_month.append(dmx.index[0])\n",
        "    \n",
        "main_cause_month"
      ],
      "execution_count": null,
      "outputs": [
        {
          "output_type": "execute_result",
          "data": {
            "text/plain": [
              "['Debris Burning',\n",
              " 'Debris Burning',\n",
              " 'Lightning',\n",
              " 'Lightning',\n",
              " 'Debris Burning',\n",
              " 'Lightning',\n",
              " 'Debris Burning',\n",
              " 'Debris Burning',\n",
              " 'Debris Burning',\n",
              " 'Debris Burning',\n",
              " 'Debris Burning',\n",
              " 'Debris Burning']"
            ]
          },
          "metadata": {
            "tags": []
          },
          "execution_count": 29
        }
      ]
    },
    {
      "cell_type": "code",
      "metadata": {
        "id": "OjH2TMUJEmM1",
        "outputId": "43882f6e-a349-41da-a3f5-fe3ed46701a1"
      },
      "source": [
        "dfco = df[df.state == 'CO']\n",
        "dfco.head(10)"
      ],
      "execution_count": null,
      "outputs": [
        {
          "output_type": "execute_result",
          "data": {
            "text/html": [
              "<div>\n",
              "<style scoped>\n",
              "    .dataframe tbody tr th:only-of-type {\n",
              "        vertical-align: middle;\n",
              "    }\n",
              "\n",
              "    .dataframe tbody tr th {\n",
              "        vertical-align: top;\n",
              "    }\n",
              "\n",
              "    .dataframe thead th {\n",
              "        text-align: right;\n",
              "    }\n",
              "</style>\n",
              "<table border=\"1\" class=\"dataframe\">\n",
              "  <thead>\n",
              "    <tr style=\"text-align: right;\">\n",
              "      <th></th>\n",
              "      <th>Unnamed: 0</th>\n",
              "      <th>Unnamed: 0.1</th>\n",
              "      <th>fire_name</th>\n",
              "      <th>fire_size</th>\n",
              "      <th>fire_size_class</th>\n",
              "      <th>stat_cause_descr</th>\n",
              "      <th>latitude</th>\n",
              "      <th>longitude</th>\n",
              "      <th>state</th>\n",
              "      <th>disc_clean_date</th>\n",
              "      <th>...</th>\n",
              "      <th>Wind_cont</th>\n",
              "      <th>Hum_pre_30</th>\n",
              "      <th>Hum_pre_15</th>\n",
              "      <th>Hum_pre_7</th>\n",
              "      <th>Hum_cont</th>\n",
              "      <th>Prec_pre_30</th>\n",
              "      <th>Prec_pre_15</th>\n",
              "      <th>Prec_pre_7</th>\n",
              "      <th>Prec_cont</th>\n",
              "      <th>remoteness</th>\n",
              "    </tr>\n",
              "  </thead>\n",
              "  <tbody>\n",
              "    <tr>\n",
              "      <th>64</th>\n",
              "      <td>64</td>\n",
              "      <td>64</td>\n",
              "      <td>SPRING GULCH</td>\n",
              "      <td>1.5</td>\n",
              "      <td>B</td>\n",
              "      <td>Lightning</td>\n",
              "      <td>39.205000</td>\n",
              "      <td>-105.188333</td>\n",
              "      <td>CO</td>\n",
              "      <td>7/31/1996</td>\n",
              "      <td>...</td>\n",
              "      <td>0.000000</td>\n",
              "      <td>0.000000</td>\n",
              "      <td>0.000000</td>\n",
              "      <td>0.000000</td>\n",
              "      <td>0.000000</td>\n",
              "      <td>0.0</td>\n",
              "      <td>0.0</td>\n",
              "      <td>0.0</td>\n",
              "      <td>0.0</td>\n",
              "      <td>0.347203</td>\n",
              "    </tr>\n",
              "    <tr>\n",
              "      <th>119</th>\n",
              "      <td>119</td>\n",
              "      <td>119</td>\n",
              "      <td>EIGHT MILE</td>\n",
              "      <td>2.0</td>\n",
              "      <td>B</td>\n",
              "      <td>Campfire</td>\n",
              "      <td>37.157500</td>\n",
              "      <td>-107.020278</td>\n",
              "      <td>CO</td>\n",
              "      <td>9/20/2008</td>\n",
              "      <td>...</td>\n",
              "      <td>6.919108</td>\n",
              "      <td>40.759654</td>\n",
              "      <td>37.542980</td>\n",
              "      <td>35.340102</td>\n",
              "      <td>53.363057</td>\n",
              "      <td>0.0</td>\n",
              "      <td>0.0</td>\n",
              "      <td>0.0</td>\n",
              "      <td>0.0</td>\n",
              "      <td>0.366083</td>\n",
              "    </tr>\n",
              "    <tr>\n",
              "      <th>515</th>\n",
              "      <td>515</td>\n",
              "      <td>515</td>\n",
              "      <td>NaN</td>\n",
              "      <td>200.0</td>\n",
              "      <td>D</td>\n",
              "      <td>Missing/Undefined</td>\n",
              "      <td>39.657929</td>\n",
              "      <td>-107.042258</td>\n",
              "      <td>CO</td>\n",
              "      <td>5/9/2004</td>\n",
              "      <td>...</td>\n",
              "      <td>-1.000000</td>\n",
              "      <td>-1.000000</td>\n",
              "      <td>-1.000000</td>\n",
              "      <td>-1.000000</td>\n",
              "      <td>-1.000000</td>\n",
              "      <td>-1.0</td>\n",
              "      <td>-1.0</td>\n",
              "      <td>-1.0</td>\n",
              "      <td>-1.0</td>\n",
              "      <td>0.365035</td>\n",
              "    </tr>\n",
              "    <tr>\n",
              "      <th>904</th>\n",
              "      <td>904</td>\n",
              "      <td>904</td>\n",
              "      <td>EASTER</td>\n",
              "      <td>10.0</td>\n",
              "      <td>C</td>\n",
              "      <td>Debris Burning</td>\n",
              "      <td>37.116700</td>\n",
              "      <td>-107.283900</td>\n",
              "      <td>CO</td>\n",
              "      <td>4/11/1998</td>\n",
              "      <td>...</td>\n",
              "      <td>0.000000</td>\n",
              "      <td>58.559816</td>\n",
              "      <td>63.068966</td>\n",
              "      <td>54.743750</td>\n",
              "      <td>0.000000</td>\n",
              "      <td>0.0</td>\n",
              "      <td>0.0</td>\n",
              "      <td>0.0</td>\n",
              "      <td>0.0</td>\n",
              "      <td>0.368680</td>\n",
              "    </tr>\n",
              "    <tr>\n",
              "      <th>915</th>\n",
              "      <td>915</td>\n",
              "      <td>915</td>\n",
              "      <td>UNKNOWN</td>\n",
              "      <td>1.0</td>\n",
              "      <td>B</td>\n",
              "      <td>Miscellaneous</td>\n",
              "      <td>40.073600</td>\n",
              "      <td>-104.643000</td>\n",
              "      <td>CO</td>\n",
              "      <td>6/17/2013</td>\n",
              "      <td>...</td>\n",
              "      <td>-1.000000</td>\n",
              "      <td>-1.000000</td>\n",
              "      <td>-1.000000</td>\n",
              "      <td>-1.000000</td>\n",
              "      <td>-1.000000</td>\n",
              "      <td>-1.0</td>\n",
              "      <td>-1.0</td>\n",
              "      <td>-1.0</td>\n",
              "      <td>-1.0</td>\n",
              "      <td>0.341516</td>\n",
              "    </tr>\n",
              "    <tr>\n",
              "      <th>1029</th>\n",
              "      <td>1029</td>\n",
              "      <td>1029</td>\n",
              "      <td>KEENE</td>\n",
              "      <td>1.0</td>\n",
              "      <td>B</td>\n",
              "      <td>Lightning</td>\n",
              "      <td>40.086100</td>\n",
              "      <td>-108.267300</td>\n",
              "      <td>CO</td>\n",
              "      <td>7/15/1998</td>\n",
              "      <td>...</td>\n",
              "      <td>-1.000000</td>\n",
              "      <td>-1.000000</td>\n",
              "      <td>-1.000000</td>\n",
              "      <td>-1.000000</td>\n",
              "      <td>-1.000000</td>\n",
              "      <td>-1.0</td>\n",
              "      <td>-1.0</td>\n",
              "      <td>-1.0</td>\n",
              "      <td>-1.0</td>\n",
              "      <td>0.376829</td>\n",
              "    </tr>\n",
              "    <tr>\n",
              "      <th>1081</th>\n",
              "      <td>1081</td>\n",
              "      <td>1081</td>\n",
              "      <td>PASTURE IAE</td>\n",
              "      <td>270.0</td>\n",
              "      <td>D</td>\n",
              "      <td>Lightning</td>\n",
              "      <td>37.053333</td>\n",
              "      <td>-102.351667</td>\n",
              "      <td>CO</td>\n",
              "      <td>7/1/1994</td>\n",
              "      <td>...</td>\n",
              "      <td>-1.000000</td>\n",
              "      <td>-1.000000</td>\n",
              "      <td>-1.000000</td>\n",
              "      <td>-1.000000</td>\n",
              "      <td>-1.000000</td>\n",
              "      <td>-1.0</td>\n",
              "      <td>-1.0</td>\n",
              "      <td>-1.0</td>\n",
              "      <td>-1.0</td>\n",
              "      <td>0.320933</td>\n",
              "    </tr>\n",
              "    <tr>\n",
              "      <th>1326</th>\n",
              "      <td>1326</td>\n",
              "      <td>1326</td>\n",
              "      <td>NaN</td>\n",
              "      <td>1.0</td>\n",
              "      <td>B</td>\n",
              "      <td>Equipment Use</td>\n",
              "      <td>38.412430</td>\n",
              "      <td>-105.152540</td>\n",
              "      <td>CO</td>\n",
              "      <td>4/28/1995</td>\n",
              "      <td>...</td>\n",
              "      <td>5.352000</td>\n",
              "      <td>57.136000</td>\n",
              "      <td>65.380952</td>\n",
              "      <td>72.102564</td>\n",
              "      <td>65.000000</td>\n",
              "      <td>194.5</td>\n",
              "      <td>193.5</td>\n",
              "      <td>170.5</td>\n",
              "      <td>101.5</td>\n",
              "      <td>0.347245</td>\n",
              "    </tr>\n",
              "    <tr>\n",
              "      <th>1346</th>\n",
              "      <td>1346</td>\n",
              "      <td>1346</td>\n",
              "      <td>MIDDLE BALD</td>\n",
              "      <td>1.0</td>\n",
              "      <td>B</td>\n",
              "      <td>Equipment Use</td>\n",
              "      <td>40.764167</td>\n",
              "      <td>-105.641667</td>\n",
              "      <td>CO</td>\n",
              "      <td>8/9/2011</td>\n",
              "      <td>...</td>\n",
              "      <td>-1.000000</td>\n",
              "      <td>-1.000000</td>\n",
              "      <td>-1.000000</td>\n",
              "      <td>-1.000000</td>\n",
              "      <td>-1.000000</td>\n",
              "      <td>-1.0</td>\n",
              "      <td>-1.0</td>\n",
              "      <td>-1.0</td>\n",
              "      <td>-1.0</td>\n",
              "      <td>0.350902</td>\n",
              "    </tr>\n",
              "    <tr>\n",
              "      <th>1399</th>\n",
              "      <td>1399</td>\n",
              "      <td>1399</td>\n",
              "      <td>UNKNOWN</td>\n",
              "      <td>3.0</td>\n",
              "      <td>B</td>\n",
              "      <td>Smoking</td>\n",
              "      <td>38.462100</td>\n",
              "      <td>-107.866300</td>\n",
              "      <td>CO</td>\n",
              "      <td>3/24/2013</td>\n",
              "      <td>...</td>\n",
              "      <td>0.000000</td>\n",
              "      <td>59.733645</td>\n",
              "      <td>52.997487</td>\n",
              "      <td>44.601124</td>\n",
              "      <td>0.000000</td>\n",
              "      <td>14.1</td>\n",
              "      <td>7.4</td>\n",
              "      <td>3.0</td>\n",
              "      <td>0.0</td>\n",
              "      <td>0.373670</td>\n",
              "    </tr>\n",
              "  </tbody>\n",
              "</table>\n",
              "<p>10 rows × 43 columns</p>\n",
              "</div>"
            ],
            "text/plain": [
              "      Unnamed: 0  Unnamed: 0.1     fire_name  fire_size fire_size_class  \\\n",
              "64            64            64  SPRING GULCH        1.5               B   \n",
              "119          119           119    EIGHT MILE        2.0               B   \n",
              "515          515           515           NaN      200.0               D   \n",
              "904          904           904        EASTER       10.0               C   \n",
              "915          915           915       UNKNOWN        1.0               B   \n",
              "1029        1029          1029         KEENE        1.0               B   \n",
              "1081        1081          1081   PASTURE IAE      270.0               D   \n",
              "1326        1326          1326           NaN        1.0               B   \n",
              "1346        1346          1346   MIDDLE BALD        1.0               B   \n",
              "1399        1399          1399       UNKNOWN        3.0               B   \n",
              "\n",
              "       stat_cause_descr   latitude   longitude state disc_clean_date  ...  \\\n",
              "64            Lightning  39.205000 -105.188333    CO       7/31/1996  ...   \n",
              "119            Campfire  37.157500 -107.020278    CO       9/20/2008  ...   \n",
              "515   Missing/Undefined  39.657929 -107.042258    CO        5/9/2004  ...   \n",
              "904      Debris Burning  37.116700 -107.283900    CO       4/11/1998  ...   \n",
              "915       Miscellaneous  40.073600 -104.643000    CO       6/17/2013  ...   \n",
              "1029          Lightning  40.086100 -108.267300    CO       7/15/1998  ...   \n",
              "1081          Lightning  37.053333 -102.351667    CO        7/1/1994  ...   \n",
              "1326      Equipment Use  38.412430 -105.152540    CO       4/28/1995  ...   \n",
              "1346      Equipment Use  40.764167 -105.641667    CO        8/9/2011  ...   \n",
              "1399            Smoking  38.462100 -107.866300    CO       3/24/2013  ...   \n",
              "\n",
              "     Wind_cont Hum_pre_30 Hum_pre_15  Hum_pre_7   Hum_cont Prec_pre_30  \\\n",
              "64    0.000000   0.000000   0.000000   0.000000   0.000000         0.0   \n",
              "119   6.919108  40.759654  37.542980  35.340102  53.363057         0.0   \n",
              "515  -1.000000  -1.000000  -1.000000  -1.000000  -1.000000        -1.0   \n",
              "904   0.000000  58.559816  63.068966  54.743750   0.000000         0.0   \n",
              "915  -1.000000  -1.000000  -1.000000  -1.000000  -1.000000        -1.0   \n",
              "1029 -1.000000  -1.000000  -1.000000  -1.000000  -1.000000        -1.0   \n",
              "1081 -1.000000  -1.000000  -1.000000  -1.000000  -1.000000        -1.0   \n",
              "1326  5.352000  57.136000  65.380952  72.102564  65.000000       194.5   \n",
              "1346 -1.000000  -1.000000  -1.000000  -1.000000  -1.000000        -1.0   \n",
              "1399  0.000000  59.733645  52.997487  44.601124   0.000000        14.1   \n",
              "\n",
              "      Prec_pre_15 Prec_pre_7 Prec_cont  remoteness  \n",
              "64            0.0        0.0       0.0    0.347203  \n",
              "119           0.0        0.0       0.0    0.366083  \n",
              "515          -1.0       -1.0      -1.0    0.365035  \n",
              "904           0.0        0.0       0.0    0.368680  \n",
              "915          -1.0       -1.0      -1.0    0.341516  \n",
              "1029         -1.0       -1.0      -1.0    0.376829  \n",
              "1081         -1.0       -1.0      -1.0    0.320933  \n",
              "1326        193.5      170.5     101.5    0.347245  \n",
              "1346         -1.0       -1.0      -1.0    0.350902  \n",
              "1399          7.4        3.0       0.0    0.373670  \n",
              "\n",
              "[10 rows x 43 columns]"
            ]
          },
          "metadata": {
            "tags": []
          },
          "execution_count": 36
        }
      ]
    },
    {
      "cell_type": "code",
      "metadata": {
        "id": "BHOyS8bUEmM4",
        "outputId": "1a4ce223-2a8f-4522-9f0d-ca9b303c12fb"
      },
      "source": [
        "dfco['stat_cause_descr'].value_counts().plot(kind='bar')"
      ],
      "execution_count": null,
      "outputs": [
        {
          "output_type": "execute_result",
          "data": {
            "text/plain": [
              "<matplotlib.axes._subplots.AxesSubplot at 0x1f9b6e58cd0>"
            ]
          },
          "metadata": {
            "tags": []
          },
          "execution_count": 37
        },
        {
          "output_type": "display_data",
          "data": {
            "image/png": "[encoded data removed]",
            "text/plain": [
              "<Figure size 432x288 with 1 Axes>"
            ]
          },
          "metadata": {
            "tags": []
          }
        }
      ]
    },
    {
      "cell_type": "code",
      "metadata": {
        "id": "4cWnBdJfEmM6",
        "outputId": "e0362033-68f1-4d06-b53e-a5f75aa596b8"
      },
      "source": [
        "dfco['discovery_month'].value_counts().plot(kind='bar')"
      ],
      "execution_count": null,
      "outputs": [
        {
          "output_type": "execute_result",
          "data": {
            "text/plain": [
              "<matplotlib.axes._subplots.AxesSubplot at 0x1f9b72231c0>"
            ]
          },
          "metadata": {
            "tags": []
          },
          "execution_count": 38
        },
        {
          "output_type": "display_data",
          "data": {
            "image/png": "[encoded data removed]",
            "text/plain": [
              "<Figure size 432x288 with 1 Axes>"
            ]
          },
          "metadata": {
            "tags": []
          }
        }
      ]
    },
    {
      "cell_type": "code",
      "metadata": {
        "id": "H-oXpCq2EmM8",
        "outputId": "36ee5c45-a9dc-47cd-8fb2-8de7549e8432"
      },
      "source": [
        "df3 = dfco[dfco.fire_size_class == 'G']\n",
        "df3['discovery_month'].value_counts().plot(kind='bar')"
      ],
      "execution_count": null,
      "outputs": [
        {
          "output_type": "execute_result",
          "data": {
            "text/plain": [
              "<matplotlib.axes._subplots.AxesSubplot at 0x1f9b726a7f0>"
            ]
          },
          "metadata": {
            "tags": []
          },
          "execution_count": 39
        },
        {
          "output_type": "display_data",
          "data": {
            "image/png": "[encoded data removed]",
            "text/plain": [
              "<Figure size 432x288 with 1 Axes>"
            ]
          },
          "metadata": {
            "tags": []
          }
        }
      ]
    },
    {
      "cell_type": "code",
      "metadata": {
        "id": "XDqpOYL7EmNA",
        "outputId": "0c60821f-912c-4d6a-a3b3-9e5736d2d3bd"
      },
      "source": [
        "plt.scatter(df['fire_size'], df['remoteness'])\n",
        "plt.xlabel('fire_size'); plt.ylabel('remoteness');\n",
        "plt.show()"
      ],
      "execution_count": null,
      "outputs": [
        {
          "output_type": "display_data",
          "data": {
            "image/png": "[encoded data removed]",
            "text/plain": [
              "<Figure size 432x288 with 1 Axes>"
            ]
          },
          "metadata": {
            "tags": []
          }
        }
      ]
    },
    {
      "cell_type": "code",
      "metadata": {
        "id": "OA-8kIDQEmND",
        "outputId": "317f43be-c58f-4f48-a2bc-83b9e1338c9d"
      },
      "source": [
        "plt.scatter(dfco['fire_size'], dfco['remoteness'])\n",
        "plt.xlabel('fire_size'); plt.ylabel('remoteness');\n",
        "plt.show()"
      ],
      "execution_count": null,
      "outputs": [
        {
          "output_type": "display_data",
          "data": {
            "image/png": "[encoded data removed]",
            "text/plain": [
              "<Figure size 432x288 with 1 Axes>"
            ]
          },
          "metadata": {
            "tags": []
          }
        }
      ]
    },
    {
      "cell_type": "code",
      "metadata": {
        "id": "HRKtkOJrEmNF",
        "outputId": "55d14c4e-5acb-4265-925f-838836d1acf2"
      },
      "source": [
        "plt.scatter(df['fire_size'], df['Wind_pre_7'])\n",
        "plt.xlabel('fire_size'); plt.ylabel('Wind_pre_7');\n",
        "plt.show()"
      ],
      "execution_count": null,
      "outputs": [
        {
          "output_type": "display_data",
          "data": {
            "image/png": "[encoded data removed]",
            "text/plain": [
              "<Figure size 432x288 with 1 Axes>"
            ]
          },
          "metadata": {
            "tags": []
          }
        }
      ]
    },
    {
      "cell_type": "code",
      "metadata": {
        "id": "VmgQlEx4EmNK",
        "outputId": "ddb4d640-b4c3-46cf-9788-78e73755cb06"
      },
      "source": [
        "plt.scatter(dfco['fire_size'], dfco['Wind_pre_7'])\n",
        "plt.xlabel('fire_size'); plt.ylabel('Wind_pre_7');\n",
        "plt.show()"
      ],
      "execution_count": null,
      "outputs": [
        {
          "output_type": "display_data",
          "data": {
            "image/png": "[encoded data removed]",
            "text/plain": [
              "<Figure size 432x288 with 1 Axes>"
            ]
          },
          "metadata": {
            "tags": []
          }
        }
      ]
    },
    {
      "cell_type": "code",
      "metadata": {
        "id": "Gy_mByNqEmNM"
      },
      "source": [
        "dftest = df.drop(['Unnamed: 0.1','Unnamed: 0', 'fire_name', 'fire_size_class','state','disc_clean_date','cont_clean_date','discovery_month','disc_date_final','cont_date_final','putout_time','disc_date_pre','disc_pre_year','disc_pre_month','wstation_usaf','dstation_m','wstation_wban','wstation_byear','wstation_eyear','weather_file','Temp_cont','Wind_cont','Prec_cont'\n",
        "], axis=1)"
      ],
      "execution_count": null,
      "outputs": []
    },
    {
      "cell_type": "code",
      "metadata": {
        "id": "BLDqktsqEmNN",
        "outputId": "745cb241-73f8-4dc7-e75d-873992408346"
      },
      "source": [
        "def plot_corr(df,size=12):\n",
        "    corr = df.corr()\n",
        "    fig, ax = plt.subplots(figsize=(size, size))\n",
        "    ax.matshow(corr,cmap=plt.cm.Oranges)\n",
        "    plt.xticks(range(len(corr.columns)), corr.columns)\n",
        "    plt.yticks(range(len(corr.columns)), corr.columns)\n",
        "    for tick in ax.get_xticklabels():\n",
        "        tick.set_rotation(45)    \n",
        "    plt.show()\n",
        "      \n",
        "plot_corr(dftest)"
      ],
      "execution_count": null,
      "outputs": [
        {
          "output_type": "display_data",
          "data": {
            "image/png": "[encoded data removed]",
            "text/plain": [
              "<Figure size 864x864 with 1 Axes>"
            ]
          },
          "metadata": {
            "tags": []
          }
        }
      ]
    },
    {
      "cell_type": "code",
      "metadata": {
        "id": "C-urq5MZEmNQ"
      },
      "source": [
        ""
      ],
      "execution_count": null,
      "outputs": []
    }
  ]
}